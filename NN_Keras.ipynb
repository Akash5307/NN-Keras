{
  "nbformat": 4,
  "nbformat_minor": 0,
  "metadata": {
    "colab": {
      "provenance": []
    },
    "kernelspec": {
      "name": "python3",
      "display_name": "Python 3"
    },
    "language_info": {
      "name": "python"
    }
  },
  "cells": [
    {
      "cell_type": "code",
      "source": [
        "import numpy as np\n",
        "# Import the correct mnist library\n",
        "from tensorflow.keras.datasets import mnist\n",
        "\n",
        "# Load the training data from the local file system\n",
        "(train_images, train_labels), (test_images, test_labels) = mnist.load_data()\n",
        "\n",
        "print(train_images.shape)\n",
        "print(train_labels.shape)"
      ],
      "metadata": {
        "colab": {
          "base_uri": "https://localhost:8080/"
        },
        "id": "8nx4a8wBTZIG",
        "outputId": "ba10dbab-e914-4fd1-857b-465e32e278c2"
      },
      "execution_count": null,
      "outputs": [
        {
          "output_type": "stream",
          "name": "stdout",
          "text": [
            "(60000, 28, 28)\n",
            "(60000,)\n"
          ]
        }
      ]
    },
    {
      "cell_type": "code",
      "source": [
        "# Normalize the images.\n",
        "train_images = (train_images / 255) - 0.5\n",
        "test_images = (test_images / 255) - 0.5"
      ],
      "metadata": {
        "id": "xZQ3sxI6ThHS"
      },
      "execution_count": null,
      "outputs": []
    },
    {
      "cell_type": "code",
      "source": [
        "# Flatten the images.\n",
        "train_images = train_images.reshape((-1, 784))\n",
        "test_images = test_images.reshape((-1, 784))"
      ],
      "metadata": {
        "id": "9Ts2uavXTlnG"
      },
      "execution_count": null,
      "outputs": []
    },
    {
      "cell_type": "code",
      "source": [
        "print(train_images.shape) # (60000, 784)\n",
        "print(test_images.shape)  # (10000, 784)"
      ],
      "metadata": {
        "colab": {
          "base_uri": "https://localhost:8080/"
        },
        "id": "bN0jmcQXTvcw",
        "outputId": "b3aa8a88-746c-41ce-e012-1d6001f6adc2"
      },
      "execution_count": null,
      "outputs": [
        {
          "output_type": "stream",
          "name": "stdout",
          "text": [
            "(60000, 784)\n",
            "(10000, 784)\n"
          ]
        }
      ]
    },
    {
      "cell_type": "code",
      "source": [
        "from tensorflow.keras.models import Sequential\n",
        "from tensorflow.keras.layers import Dense,Dropout"
      ],
      "metadata": {
        "id": "hOM_U0ybT7Zh"
      },
      "execution_count": null,
      "outputs": []
    },
    {
      "cell_type": "code",
      "source": [
        "# Import the necessary module for one-hot encoding\n",
        "from tensorflow.keras.utils import to_categorical\n",
        "\n",
        "# Reshape train_labels to a 1-D array\n",
        "train_labels = train_labels.reshape(-1)\n",
        "\n",
        "# Convert the train labels to one-hot encoded format\n",
        "train_labels = to_categorical(train_labels, num_classes=10)"
      ],
      "metadata": {
        "id": "IHyavsBQU8Bz"
      },
      "execution_count": null,
      "outputs": []
    },
    {
      "cell_type": "code",
      "source": [
        "model = Sequential([\n",
        "  Dense(64, activation='relu', input_shape=(784,)),\n",
        "  Dropout(0.5),\n",
        "  Dense(64, activation='relu'),\n",
        "  Dropout(0.5),\n",
        "  Dense(10, activation='softmax'),\n",
        "])"
      ],
      "metadata": {
        "id": "M98KEfmdXY0O"
      },
      "execution_count": null,
      "outputs": []
    },
    {
      "cell_type": "code",
      "source": [
        "#compile the model\n",
        "model.compile(\n",
        "  optimizer='adam',\n",
        "  loss='categorical_crossentropy',\n",
        "  metrics=['accuracy'],\n",
        ")"
      ],
      "metadata": {
        "id": "UxO7EXPDUQLo"
      },
      "execution_count": null,
      "outputs": []
    },
    {
      "cell_type": "code",
      "source": [
        "model.fit(\n",
        "  train_images,\n",
        "  train_labels, # The labels are now correctly one-hot encoded\n",
        "  epochs=15,\n",
        "  batch_size=32,\n",
        "  validation_data=(test_images, to_categorical(test_labels)) # Remove the to_categorical() here\n",
        ")"
      ],
      "metadata": {
        "colab": {
          "base_uri": "https://localhost:8080/"
        },
        "id": "iwLKh4Q1UWf6",
        "outputId": "7aab74d1-7a0c-4f13-be66-0769ac34f992"
      },
      "execution_count": null,
      "outputs": [
        {
          "output_type": "stream",
          "name": "stdout",
          "text": [
            "Epoch 1/15\n",
            "1875/1875 [==============================] - 8s 4ms/step - loss: 1.1767 - accuracy: 0.5839 - val_loss: 0.4844 - val_accuracy: 0.8869\n",
            "Epoch 2/15\n",
            "1875/1875 [==============================] - 5s 3ms/step - loss: 0.8769 - accuracy: 0.6999 - val_loss: 0.4061 - val_accuracy: 0.8944\n",
            "Epoch 3/15\n",
            "1875/1875 [==============================] - 7s 3ms/step - loss: 0.8210 - accuracy: 0.7207 - val_loss: 0.3935 - val_accuracy: 0.8648\n",
            "Epoch 4/15\n",
            "1875/1875 [==============================] - 5s 3ms/step - loss: 0.8005 - accuracy: 0.7322 - val_loss: 0.3700 - val_accuracy: 0.8881\n",
            "Epoch 5/15\n",
            "1875/1875 [==============================] - 6s 3ms/step - loss: 0.7806 - accuracy: 0.7410 - val_loss: 0.4100 - val_accuracy: 0.8654\n",
            "Epoch 6/15\n",
            "1875/1875 [==============================] - 6s 3ms/step - loss: 0.7664 - accuracy: 0.7474 - val_loss: 0.3770 - val_accuracy: 0.8643\n",
            "Epoch 7/15\n",
            "1875/1875 [==============================] - 5s 3ms/step - loss: 0.7568 - accuracy: 0.7525 - val_loss: 0.3426 - val_accuracy: 0.8795\n",
            "Epoch 8/15\n",
            "1875/1875 [==============================] - 7s 4ms/step - loss: 0.7554 - accuracy: 0.7538 - val_loss: 0.3459 - val_accuracy: 0.8886\n",
            "Epoch 9/15\n",
            "1875/1875 [==============================] - 5s 3ms/step - loss: 0.7437 - accuracy: 0.7563 - val_loss: 0.3908 - val_accuracy: 0.8538\n",
            "Epoch 10/15\n",
            "1875/1875 [==============================] - 7s 4ms/step - loss: 0.7331 - accuracy: 0.7618 - val_loss: 0.3400 - val_accuracy: 0.8833\n",
            "Epoch 11/15\n",
            "1875/1875 [==============================] - 6s 3ms/step - loss: 0.7288 - accuracy: 0.7642 - val_loss: 0.3902 - val_accuracy: 0.8539\n",
            "Epoch 12/15\n",
            "1875/1875 [==============================] - 7s 4ms/step - loss: 0.7166 - accuracy: 0.7678 - val_loss: 0.3601 - val_accuracy: 0.8734\n",
            "Epoch 13/15\n",
            "1875/1875 [==============================] - 7s 4ms/step - loss: 0.7207 - accuracy: 0.7659 - val_loss: 0.3458 - val_accuracy: 0.8801\n",
            "Epoch 14/15\n",
            "1875/1875 [==============================] - 7s 4ms/step - loss: 0.7109 - accuracy: 0.7682 - val_loss: 0.3434 - val_accuracy: 0.8886\n",
            "Epoch 15/15\n",
            "1875/1875 [==============================] - 6s 3ms/step - loss: 0.7150 - accuracy: 0.7688 - val_loss: 0.3415 - val_accuracy: 0.8810\n"
          ]
        },
        {
          "output_type": "execute_result",
          "data": {
            "text/plain": [
              "<keras.src.callbacks.History at 0x7e76ff6b9660>"
            ]
          },
          "metadata": {},
          "execution_count": 9
        }
      ]
    },
    {
      "cell_type": "code",
      "source": [
        "#Testing the model\n",
        "model.evaluate(\n",
        "  test_images,\n",
        "  to_categorical(test_labels)\n",
        ")"
      ],
      "metadata": {
        "colab": {
          "base_uri": "https://localhost:8080/"
        },
        "id": "bav3taeGVEZV",
        "outputId": "b6a7fe87-3338-4eb7-e3e6-2976d21c6d40"
      },
      "execution_count": null,
      "outputs": [
        {
          "output_type": "stream",
          "name": "stdout",
          "text": [
            "313/313 [==============================] - 1s 2ms/step - loss: 0.3415 - accuracy: 0.8810\n"
          ]
        },
        {
          "output_type": "execute_result",
          "data": {
            "text/plain": [
              "[0.34149378538131714, 0.8809999823570251]"
            ]
          },
          "metadata": {},
          "execution_count": 10
        }
      ]
    },
    {
      "cell_type": "code",
      "source": [
        "#Saving the model\n",
        "model.save_weights('model.h5')"
      ],
      "metadata": {
        "id": "0wDtkE67VOWt"
      },
      "execution_count": null,
      "outputs": []
    },
    {
      "cell_type": "code",
      "source": [
        "# Load the model's saved weights.\n",
        "model.load_weights('model.h5')"
      ],
      "metadata": {
        "id": "KTr7udHeVZKx"
      },
      "execution_count": null,
      "outputs": []
    },
    {
      "cell_type": "code",
      "source": [
        "# Predict on the first 5 test images.\n",
        "predictions = model.predict(test_images[:5])\n",
        "\n",
        "# Print our model's predictions.\n",
        "print(np.argmax(predictions, axis=1)) # [7, 2, 1, 0, 4]\n",
        "\n",
        "# Check our predictions against the ground truths.\n",
        "print(test_labels[:5]) # [7, 2, 1, 0, 4]"
      ],
      "metadata": {
        "colab": {
          "base_uri": "https://localhost:8080/"
        },
        "id": "5dCAmunKVcyt",
        "outputId": "576847cf-b923-42cb-e35e-1b3613ad7790"
      },
      "execution_count": null,
      "outputs": [
        {
          "output_type": "stream",
          "name": "stdout",
          "text": [
            "1/1 [==============================] - 0s 92ms/step\n",
            "[7 2 1 0 4]\n",
            "[7 2 1 0 4]\n"
          ]
        }
      ]
    }
  ]
}